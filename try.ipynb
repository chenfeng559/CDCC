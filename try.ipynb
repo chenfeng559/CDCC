{
 "cells": [
  {
   "cell_type": "code",
   "execution_count": 1,
   "metadata": {},
   "outputs": [],
   "source": [
    "import numpy as np\n",
    "import inspect\n",
    "from typing import Union\n",
    "\n",
    "from numpy.lib.function_base import average"
   ]
  },
  {
   "cell_type": "code",
   "execution_count": 2,
   "metadata": {},
   "outputs": [],
   "source": [
    "rng = np.random.RandomState()"
   ]
  },
  {
   "cell_type": "code",
   "execution_count": 3,
   "metadata": {},
   "outputs": [
    {
     "name": "stdout",
     "output_type": "stream",
     "text": [
      "[0.30381246 0.70630297 0.81677879 0.35471426 0.50280948 0.34702062\n",
      " 0.02575593 0.83941705 0.76293252 0.89890003 0.011494   0.01344426\n",
      " 0.23253903 0.85335763 0.58145809 0.6700216  0.38317504 0.13748106\n",
      " 0.62424021 0.8439637 ]\n"
     ]
    }
   ],
   "source": [
    "a = rng.uniform(0.,1.,20)\n",
    "print(a)"
   ]
  },
  {
   "cell_type": "code",
   "execution_count": 5,
   "metadata": {},
   "outputs": [
    {
     "name": "stdout",
     "output_type": "stream",
     "text": [
      "0.011494003839905065\n"
     ]
    }
   ],
   "source": [
    "ay =a.min()\n",
    "print(ay)"
   ]
  },
  {
   "cell_type": "code",
   "execution_count": 6,
   "metadata": {},
   "outputs": [
    {
     "name": "stdout",
     "output_type": "stream",
     "text": [
      "[False False False False False False  True False False False  True  True\n",
      "  True False False False False  True False False]\n"
     ]
    }
   ],
   "source": [
    "b = a - np.max([ay, 0.3]) <= 0.001\n",
    "print(b)"
   ]
  },
  {
   "cell_type": "code",
   "execution_count": 7,
   "metadata": {},
   "outputs": [
    {
     "name": "stdout",
     "output_type": "stream",
     "text": [
      "[[18 16  6]\n",
      " [16  5  9]\n",
      " [12 18 11]\n",
      " [ 3  0 18]\n",
      " [ 1 16  5]]\n"
     ]
    }
   ],
   "source": [
    "p = rng.randint(0, 20, (5, 3))\n",
    "print(p)"
   ]
  },
  {
   "cell_type": "code",
   "execution_count": 3,
   "metadata": {},
   "outputs": [
    {
     "name": "stdout",
     "output_type": "stream",
     "text": [
      "[10 11 16 17  3]\n"
     ]
    }
   ],
   "source": [
    "c = np.random.choice(20, 5, replace=False)\n",
    "print(c)"
   ]
  },
  {
   "cell_type": "code",
   "execution_count": 7,
   "metadata": {},
   "outputs": [
    {
     "name": "stdout",
     "output_type": "stream",
     "text": [
      "[ 7 15 13]\n"
     ]
    }
   ],
   "source": [
    "print(p[2])"
   ]
  },
  {
   "cell_type": "code",
   "execution_count": 4,
   "metadata": {},
   "outputs": [
    {
     "name": "stdout",
     "output_type": "stream",
     "text": [
      "(10, 100, 3)\n"
     ]
    }
   ],
   "source": [
    "print(arr.shape)"
   ]
  },
  {
   "cell_type": "code",
   "execution_count": 4,
   "metadata": {},
   "outputs": [
    {
     "name": "stdout",
     "output_type": "stream",
     "text": [
      "1.00000006\n"
     ]
    }
   ],
   "source": [
    "a = [0.07558338, 0.08669577, 0.04180792, 0.08776797, 0.03730544, 0.0864414, 0.06398179, 0.05931514, 0.08570248, 0.08633546, 0.06880476, 0.08442494, 0.05248505, 0.08334856]\n",
    "t = 0\n",
    "for i in a:\n",
    "    t += i\n",
    "print(t)\n"
   ]
  },
  {
   "cell_type": "code",
   "execution_count": null,
   "metadata": {},
   "outputs": [],
   "source": []
  }
 ],
 "metadata": {
  "interpreter": {
   "hash": "5039b49012992453ec2bbfacf34821019487f011313700c843e047dfa04e2117"
  },
  "kernelspec": {
   "display_name": "Python 3.10.4 64-bit",
   "name": "python3"
  },
  "language_info": {
   "codemirror_mode": {
    "name": "ipython",
    "version": 3
   },
   "file_extension": ".py",
   "mimetype": "text/x-python",
   "name": "python",
   "nbconvert_exporter": "python",
   "pygments_lexer": "ipython3",
   "version": "3.8.18"
  },
  "orig_nbformat": 4
 },
 "nbformat": 4,
 "nbformat_minor": 2
}
